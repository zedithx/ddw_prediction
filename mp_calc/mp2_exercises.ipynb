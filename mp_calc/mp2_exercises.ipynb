{
 "cells": [
  {
   "cell_type": "markdown",
   "metadata": {
    "pycharm": {
     "name": "#%% md\n"
    }
   },
   "source": [
    "# Mini Project: Sorting and Evaluating Math Expressions"
   ]
  },
  {
   "cell_type": "markdown",
   "metadata": {
    "pycharm": {
     "name": "#%% md\n"
    }
   },
   "source": [
    "## Week 3"
   ]
  },
  {
   "cell_type": "markdown",
   "metadata": {
    "pycharm": {
     "name": "#%% md\n"
    }
   },
   "source": [
    "**Q1.** *Mergesort:* Modify your `mergesort(array)` function that you did in your cohort session to take one additional argument called `byfunc`, i.e. `mergesort(array, byfunc)`. If the caller does not specify the value of `byfunc`, its default value is `None`. When this argument is `None`, the function `mergesort` behaves similar to your cohort session by sorting the array according to its values. However, when the value of this argument is not `None` but rather some other function, your `mergesort` function should sort the array according to the value returned by this function. \n",
    "\n",
    "For example, instead of sorting an array of integers, we want to sort an array of tupple.\n",
    "```python\n",
    "array = [(1, 2), (3, 2), (2, -1), (4, 7), (-1, -2)]\n",
    "```\n",
    "We can define a function say `select()` as follows:\n",
    "```python\n",
    "def select(item):\n",
    "    return item[0]\n",
    "```\n",
    "\n",
    "You can then should be able to call your `mergesort()` function in the following:\n",
    "```python\n",
    "mergesort(array, select)\n",
    "```\n",
    "which will sort the list of tuples according to the value of its *first* element (recall `item[0]` in `select()`). This means that if you want to sort based on the *second* element of the tuple, you can redefine select as:\n",
    "```python\n",
    "def select(item):\n",
    "    return item[1]\n",
    "```\n",
    "\n",
    "You can also apply this to a list of objects, say `User` class objects.\n",
    "```python\n",
    "array = [<User 1>, <User 2>, <User 3>, ..., <User 101>]\n",
    "```\n",
    "You can define the following `select()` function to sort according to its `username` attribute.\n",
    "```python\n",
    "def select(item):\n",
    "    return item.username\n",
    "```\n",
    "\n",
    "You can then call the `mergesort()` function as follows:\n",
    "```python\n",
    "mergesort(array, select)\n",
    "```\n",
    "\n",
    "Python allows you to write [lambda functions](https://realpython.com/python-lambda/) to replace your `select()` function definition. You can simply call merge sort with the following without defining `select()`.\n",
    "```python\n",
    "mergesort(array, lambda item: item.username)\n",
    "```"
   ]
  },
  {
   "cell_type": "code",
   "execution_count": 3,
   "metadata": {
    "pycharm": {
     "name": "#%%\n"
    }
   },
   "outputs": [],
   "source": [
    "def mergesort_recursive(array, p, r, byfunc=None):\n",
    "      if r - p > 0:\n",
    "          q = (p + r) // 2\n",
    "          mergesort_recursive(array, p, q, byfunc)\n",
    "          mergesort_recursive(array, q+1, r, byfunc)\n",
    "          merge(array, p, q, r, byfunc)\n",
    "\n",
    "def merge(array, p, q, r, byfunc=None):\n",
    "  left_size = q - p + 1\n",
    "  right_size = r - q\n",
    "  left_array = array[p:q+1]\n",
    "  right_array = array[q+1:r+1]\n",
    "  left = 0\n",
    "  right = 0\n",
    "  dest = p\n",
    "  while left < left_size and right < right_size:\n",
    "      if byfunc(left_array[left]) <= byfunc(right_array[right]):\n",
    "          array[dest] = left_array[left]\n",
    "          left += 1\n",
    "      else:\n",
    "          array[dest] = right_array[right]\n",
    "          right += 1\n",
    "      dest += 1\n",
    "  while left < left_size:\n",
    "      array[dest] = left_array[left]\n",
    "      left += 1\n",
    "      dest += 1\n",
    "  while right < right_size:\n",
    "      array[dest] = right_array[right]\n",
    "      right += 1\n",
    "      dest += 1\n",
    "\n",
    "def mergesort(array, byfunc=None):\n",
    "    end_index = len(array) - 1\n",
    "    mergesort_recursive(array, 0, end_index, byfunc)"
   ]
  },
  {
   "cell_type": "code",
   "execution_count": 4,
   "metadata": {
    "pycharm": {
     "name": "#%%\n"
    }
   },
   "outputs": [],
   "source": [
    "array = [(1, 2), (3, 2), (2, -1), (4, 7), (-1, -2)]\n",
    "mergesort(array, lambda item: item[0])\n",
    "assert array == [(-1, -2), (1, 2), (2, -1), (3, 2), (4, 7)]\n",
    "mergesort(array, lambda item: item[1])\n",
    "assert array == [(-1, -2), (2, -1), (1, 2), (3, 2), (4, 7)]"
   ]
  },
  {
   "cell_type": "markdown",
   "metadata": {
    "pycharm": {
     "name": "#%% md\n"
    }
   },
   "source": [
    "**Q2.** Create a class called `EvaluateExpression` to evaluate mathematical expressions for Integers. The class has the following property:\n",
    "- `expression`: which is a property with a get and set method. The set method of this property should check if the string contains any invalid characters. If there is any invalid character, it should set the internal property `expr` to an empty String. Otherwise, it should set the string as it is. Valid characters are: `0123456789+-*/()` and an empty space.\n",
    "- `expr`: which is a property that stores only valid expression. It is used internally to store the expression.\n",
    "\n",
    "During object instantiation, a string can be passed on to `__init__()`.\n",
    "- `__init__(expr)`: where expr is the mathematical expression to initialize the property `expr`. If nothing is provided it should initialize to an empty String. If the string contains other characters besides those in the valid characters list above, the property `expr` should be initialized to an empty string.\n",
    "\n",
    "\n"
   ]
  },
  {
   "cell_type": "code",
   "execution_count": 5,
   "metadata": {
    "pycharm": {
     "name": "#%%\n"
    }
   },
   "outputs": [],
   "source": [
    "class EvaluateExpression:\n",
    "  valid_char = '0123456789+-*/() '\n",
    "  def __init__(self, string=\"\"):\n",
    "    self.__expression = string\n",
    "\n",
    "  @property\n",
    "  def expression(self):\n",
    "    return self.__expression\n",
    "\n",
    "  @expression.setter\n",
    "  def expression(self, new_expr):\n",
    "    for char in new_expr:\n",
    "        if char not in self.valid_char:\n",
    "            self.__expression = ''\n",
    "            return\n",
    "    self.__expression = new_expr\n",
    "    return\n",
    "\n",
    "\n",
    "\n",
    "  "
   ]
  },
  {
   "cell_type": "code",
   "execution_count": 6,
   "metadata": {
    "pycharm": {
     "name": "#%%\n"
    }
   },
   "outputs": [],
   "source": [
    "expr1 = EvaluateExpression()\n",
    "assert expr1.expression == \"\"\n",
    "expr2 = EvaluateExpression(\"1 + 2\")\n",
    "assert expr2.expression == \"1 + 2\"\n",
    "expr2.expression = \"3 * 4\"\n",
    "assert expr2.expression == \"3 * 4\"\n",
    "expr2.expression = \"3 & 4\"\n",
    "assert expr2.expression == \"\""
   ]
  },
  {
   "cell_type": "markdown",
   "metadata": {
    "pycharm": {
     "name": "#%% md\n"
    }
   },
   "source": [
    "**Q3.** The class `EvaluateExpression` also has the following method:\n",
    "- `insert_space()`: which is used to insert one empty space before an operator and another empty space after the operator in the `expression` property. The function should return a new String. Note that this means that if there are two operators side by side, there will be two empty space between them.\n",
    "\n"
   ]
  },
  {
   "cell_type": "code",
   "execution_count": 7,
   "metadata": {
    "pycharm": {
     "name": "#%%\n"
    }
   },
   "outputs": [],
   "source": [
    "class EvaluateExpression:\n",
    "    valid_char = '0123456789+-*/() '\n",
    "    operators = \"+-*/()\"\n",
    "    def __init__(self, string=\"\"):\n",
    "        self.__expression = string\n",
    "\n",
    "    @property\n",
    "    def expression(self):\n",
    "        return self.__expression\n",
    "\n",
    "    @expression.setter\n",
    "    def expression(self, new_expr):\n",
    "        for char in new_expr:\n",
    "            if char not in self.valid_char:\n",
    "                self.__expression = ''\n",
    "                return\n",
    "        self.__expression = new_expr\n",
    "        return\n",
    "\n",
    "    def insert_space(self):\n",
    "        modified_expression = ''\n",
    "        for char in self.__expression:\n",
    "            if char in self.operators:\n",
    "                modified_expression += ' ' + char + ' '\n",
    "            else:\n",
    "                modified_expression += char\n",
    "        return modified_expression"
   ]
  },
  {
   "cell_type": "code",
   "execution_count": 8,
   "metadata": {
    "pycharm": {
     "name": "#%%\n"
    }
   },
   "outputs": [],
   "source": [
    "expr1 = EvaluateExpression(\"(1+2)\")\n",
    "assert expr1.insert_space() == \" ( 1 + 2 ) \"\n",
    "expr1.expression = \"((1+2)*3/(4-5))\"\n",
    "assert expr1.insert_space() == \" (  ( 1 + 2 )  * 3 /  ( 4 - 5 )  ) \"\n"
   ]
  },
  {
   "cell_type": "markdown",
   "metadata": {
    "pycharm": {
     "name": "#%% md\n"
    }
   },
   "source": [
    "## Week 4"
   ]
  },
  {
   "cell_type": "markdown",
   "metadata": {
    "pycharm": {
     "name": "#%% md\n"
    }
   },
   "source": [
    "**Q4.** The class `EvaluateExpression` also has the following methods:\n",
    "- `process_operator(operand_stack, operator_stack)`: which process one operator. This method should modify the Stacks provided in the arguments. Note that the division operator `/` should be considered as an integer division for this exercise. This means that you need to use `//` in Python."
   ]
  },
  {
   "cell_type": "code",
   "execution_count": 9,
   "metadata": {
    "pycharm": {
     "name": "#%%\n"
    }
   },
   "outputs": [],
   "source": [
    "class Stack:\n",
    "    def __init__(self):\n",
    "        self.__items = []\n",
    "\n",
    "    def push(self, item):\n",
    "        self.__items.append(item)\n",
    "\n",
    "    def pop(self):\n",
    "        size_stack = len(self.__items)\n",
    "        if size_stack == 0:\n",
    "          return None\n",
    "        else:\n",
    "          return self.__items.pop()\n",
    "\n",
    "    def peek(self):\n",
    "        size_stack = len(self.__items)\n",
    "        if size_stack == 0:\n",
    "          return None\n",
    "        else:\n",
    "          return self.__items[-1]\n",
    "\n",
    "    @property\n",
    "    def is_empty(self):\n",
    "        size_stack = len(self.__items)\n",
    "        return size_stack == 0\n",
    "\n",
    "    @property\n",
    "    def size(self):\n",
    "        return len(self.__items)\n"
   ]
  },
  {
   "cell_type": "code",
   "execution_count": 32,
   "metadata": {
    "pycharm": {
     "name": "#%%\n"
    }
   },
   "outputs": [],
   "source": [
    "class EvaluateExpression:\n",
    "    valid_char = '0123456789+-*/() '\n",
    "    operators = \"+-*/()\"\n",
    "    def __init__(self, string=\"\"):\n",
    "        self.__expression = string\n",
    "\n",
    "    @property\n",
    "    def expression(self):\n",
    "        return self.__expression\n",
    "\n",
    "    @expression.setter\n",
    "    def expression(self, new_expr):\n",
    "        for char in new_expr:\n",
    "            if char not in self.valid_char:\n",
    "                self.__expression = ''\n",
    "                return\n",
    "        self.__expression = new_expr\n",
    "        return\n",
    "\n",
    "    def insert_space(self):\n",
    "        modified_expression = ''\n",
    "        for char in self.__expression:\n",
    "            if char in self.operators:\n",
    "                modified_expression += ' ' + char + ' '\n",
    "            else:\n",
    "                modified_expression += char\n",
    "        return modified_expression\n",
    "\n",
    "    def process_operator(self, operand_stack, operator_stack):\n",
    "        second_number = operand_stack.pop()\n",
    "        first_number = operand_stack.pop()\n",
    "        operator_string = operator_stack.pop()\n",
    "        if operator_string == \"+\":\n",
    "            operand_stack.push(first_number + second_number)\n",
    "        elif operator_string == \"-\":\n",
    "            operand_stack.push(first_number - second_number)\n",
    "        elif operator_string == \"*\":\n",
    "            operand_stack.push(first_number * second_number)\n",
    "        elif operator_string == \"/\":\n",
    "            operand_stack.push(first_number // second_number)\n",
    "    \n",
    "  "
   ]
  },
  {
   "cell_type": "code",
   "execution_count": 33,
   "metadata": {
    "pycharm": {
     "name": "#%%\n"
    }
   },
   "outputs": [],
   "source": [
    "expr1 = EvaluateExpression()\n",
    "operand_stack = Stack()\n",
    "operator_stack = Stack()\n",
    "operand_stack.push(3)\n",
    "operand_stack.push(4)\n",
    "operator_stack.push(\"+\")\n",
    "expr1.process_operator(operand_stack, operator_stack)\n",
    "assert operand_stack.peek() == 7\n",
    "operand_stack.push(5)\n",
    "operator_stack.push(\"*\")\n",
    "expr1.process_operator(operand_stack, operator_stack)\n",
    "assert operand_stack.peek() == 35\n",
    "operand_stack.push(30)\n",
    "operator_stack.push(\"-\")\n",
    "expr1.process_operator(operand_stack, operator_stack)\n",
    "assert operand_stack.peek() == 5\n",
    "operand_stack.push(2)\n",
    "operator_stack.push(\"/\")\n",
    "expr1.process_operator(operand_stack, operator_stack)\n",
    "assert operand_stack.peek() == 2"
   ]
  },
  {
   "cell_type": "markdown",
   "metadata": {
    "pycharm": {
     "name": "#%% md\n"
    }
   },
   "source": [
    "**Q5.** The class `EvaluateExpression` also has the following methods:\n",
    "- `evaluate()`: which evaluate the mathematical expression contained in the property `expression`. The method should return an Integer. This method contains two processes:\n",
    "    - Phase 1: In this phase, the code scans the expression from left to right to extract operands, operators, and the parentheses.\n",
    "        1. If the extracted character is an operand, push it to `operand_stack`.\n",
    "        1. If the extracted character is + or - operator, process  all the operators at the top of the `operator_stack` and push the extracted operator to `operator_stack`. You should process all the operators as long as the `operator_stack` is not empty and the top of the `operator_stack` is not `(` or `)` symbols.\n",
    "        1. If the extracted character is a `*` or `/` operator, process all the `*` or `/` operators at the top of the `operator_stack` and push the extracted operator to `operator_stack`. \n",
    "        1. If the extracted character is a `(` symbol, push it to `operator_stack`.\n",
    "        1. If the extracted character is a `)` symbol, repeatedly process the operators from the top of `operator_stack` until seeing the `(` symbol on the stack. \n",
    "    - Phase 2: Repeatedly process the operators from the top of `operator_stack` until `operator_stack` is empty.\n"
   ]
  },
  {
   "cell_type": "code",
   "execution_count": 34,
   "metadata": {
    "pycharm": {
     "name": "#%%\n"
    }
   },
   "outputs": [],
   "source": [
    "class EvaluateExpression:\n",
    "    valid_char = '0123456789+-*/() '\n",
    "    operands = '0123456789'\n",
    "    operators = \"+-*/()\"\n",
    "    def __init__(self, string=\"\"):\n",
    "        self.__expression = string\n",
    "\n",
    "    @property\n",
    "    def expression(self):\n",
    "        return self.__expression\n",
    "\n",
    "    @expression.setter\n",
    "    def expression(self, new_expr):\n",
    "        for char in new_expr:\n",
    "            if char not in self.valid_char:\n",
    "                self.__expression = ''\n",
    "                return\n",
    "        self.__expression = new_expr\n",
    "        return\n",
    "\n",
    "    def insert_space(self):\n",
    "        modified_expression = ''\n",
    "        for char in self.__expression:\n",
    "            if char in self.operators:\n",
    "                modified_expression += ' ' + char + ' '\n",
    "            else:\n",
    "                modified_expression += char\n",
    "        return modified_expression\n",
    "\n",
    "    def process_operator(self, operand_stack, operator_stack):\n",
    "        second_number = operand_stack.pop()\n",
    "        first_number = operand_stack.pop()\n",
    "        operator_string = operator_stack.pop()\n",
    "        if operator_string == \"+\":\n",
    "            operand_stack.push(int(first_number) + int(second_number))\n",
    "        elif operator_string == \"-\":\n",
    "            operand_stack.push(int(first_number) - int(second_number))\n",
    "        elif operator_string == \"*\":\n",
    "            operand_stack.push(int(first_number) * int(second_number))\n",
    "        elif operator_string == \"/\":\n",
    "            operand_stack.push(int(first_number) // int(second_number))\n",
    "\n",
    "    def evaluate(self):\n",
    "        operand_stack = Stack()\n",
    "        operator_stack = Stack()\n",
    "        expression = self.insert_space()\n",
    "        tokens = expression.split()\n",
    "        for token in tokens:\n",
    "            if token in self.operands:\n",
    "                operand_stack.push(token)\n",
    "            elif token == '+' or token == '-':\n",
    "                while not operator_stack.is_empty and operator_stack.peek() != '(' and operator_stack.peek() != ')':\n",
    "                    self.process_operator(operand_stack, operator_stack)\n",
    "                operator_stack.push(token)\n",
    "            elif token == '*' or token =='/':\n",
    "                if operator_stack.peek() == '*' or operator_stack.peek() == '/':\n",
    "                    self.process_operator(operand_stack, operator_stack)\n",
    "                operator_stack.push(token)\n",
    "            elif token == '(':\n",
    "                operator_stack.push(token)\n",
    "            elif token == ')':\n",
    "                while operator_stack.peek() != '(':\n",
    "                    self.process_operator(operand_stack, operator_stack)\n",
    "                operator_stack.pop()\n",
    "        while not operator_stack.is_empty:\n",
    "            self.process_operator(operand_stack, operator_stack)\n",
    "        return operand_stack.peek()"
   ]
  },
  {
   "cell_type": "code",
   "execution_count": 35,
   "metadata": {
    "pycharm": {
     "name": "#%%\n"
    }
   },
   "outputs": [],
   "source": [
    "expr1 = EvaluateExpression(\"(1+2)*3\")\n",
    "assert expr1.evaluate() == 9\n",
    "expr1.expression = \"(1 + 2) * 4 - 3\"\n",
    "assert expr1.evaluate() == 9\n",
    "expr2 = EvaluateExpression(\"(1+2 *4-  3)* (7/5 * 6)\")\n",
    "assert expr2.evaluate() == 36"
   ]
  },
  {
   "cell_type": "code",
   "execution_count": 200,
   "outputs": [],
   "source": [],
   "metadata": {
    "collapsed": false,
    "pycharm": {
     "name": "#%%\n"
    }
   }
  }
 ],
 "metadata": {
  "kernelspec": {
   "display_name": "Python 3 (ipykernel)",
   "language": "python",
   "name": "python3"
  },
  "language_info": {
   "codemirror_mode": {
    "name": "ipython",
    "version": 3
   },
   "file_extension": ".py",
   "mimetype": "text/x-python",
   "name": "python",
   "nbconvert_exporter": "python",
   "pygments_lexer": "ipython3",
   "version": "3.8.5"
  }
 },
 "nbformat": 4,
 "nbformat_minor": 4
}